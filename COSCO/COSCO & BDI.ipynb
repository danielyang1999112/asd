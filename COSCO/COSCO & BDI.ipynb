{
 "cells": [
  {
   "cell_type": "code",
   "execution_count": 1,
   "id": "995b2315",
   "metadata": {},
   "outputs": [],
   "source": [
    "import numpy as np\n",
    "import pandas as pd\n",
    "import matplotlib.pyplot as plt\n",
    "from sklearn.linear_model import LinearRegression"
   ]
  },
  {
   "cell_type": "code",
   "execution_count": 2,
   "id": "692dea4c",
   "metadata": {},
   "outputs": [],
   "source": [
    "bdi = pd.read_csv('BDI.csv')[['ReDate', 'ReValue']]\n",
    "cos = pd.read_csv('COSCO.csv')[['ReDate', 'ReClose']]"
   ]
  },
  {
   "cell_type": "code",
   "execution_count": 3,
   "id": "5c4bf287",
   "metadata": {},
   "outputs": [
    {
     "name": "stdout",
     "output_type": "stream",
     "text": [
      "<class 'pandas.core.frame.DataFrame'>\n",
      "RangeIndex: 86 entries, 0 to 85\n",
      "Data columns (total 2 columns):\n",
      " #   Column   Non-Null Count  Dtype \n",
      "---  ------   --------------  ----- \n",
      " 0   ReDate   86 non-null     object\n",
      " 1   ReValue  86 non-null     int64 \n",
      "dtypes: int64(1), object(1)\n",
      "memory usage: 1.5+ KB\n"
     ]
    }
   ],
   "source": [
    "bdi.info()"
   ]
  },
  {
   "cell_type": "code",
   "execution_count": 4,
   "id": "ced2fea0",
   "metadata": {},
   "outputs": [
    {
     "name": "stdout",
     "output_type": "stream",
     "text": [
      "<class 'pandas.core.frame.DataFrame'>\n",
      "RangeIndex: 86 entries, 0 to 85\n",
      "Data columns (total 2 columns):\n",
      " #   Column   Non-Null Count  Dtype  \n",
      "---  ------   --------------  -----  \n",
      " 0   ReDate   86 non-null     object \n",
      " 1   ReClose  86 non-null     float64\n",
      "dtypes: float64(1), object(1)\n",
      "memory usage: 1.5+ KB\n"
     ]
    }
   ],
   "source": [
    "cos.info()"
   ]
  },
  {
   "cell_type": "code",
   "execution_count": 5,
   "id": "f74dbf2b",
   "metadata": {},
   "outputs": [
    {
     "data": {
      "text/html": [
       "<div>\n",
       "<style scoped>\n",
       "    .dataframe tbody tr th:only-of-type {\n",
       "        vertical-align: middle;\n",
       "    }\n",
       "\n",
       "    .dataframe tbody tr th {\n",
       "        vertical-align: top;\n",
       "    }\n",
       "\n",
       "    .dataframe thead th {\n",
       "        text-align: right;\n",
       "    }\n",
       "</style>\n",
       "<table border=\"1\" class=\"dataframe\">\n",
       "  <thead>\n",
       "    <tr style=\"text-align: right;\">\n",
       "      <th></th>\n",
       "      <th>ReDate</th>\n",
       "      <th>ReValue</th>\n",
       "    </tr>\n",
       "  </thead>\n",
       "  <tbody>\n",
       "    <tr>\n",
       "      <th>0</th>\n",
       "      <td>2021/3/16</td>\n",
       "      <td>2017</td>\n",
       "    </tr>\n",
       "    <tr>\n",
       "      <th>1</th>\n",
       "      <td>2021/3/17</td>\n",
       "      <td>2105</td>\n",
       "    </tr>\n",
       "    <tr>\n",
       "      <th>2</th>\n",
       "      <td>2021/3/18</td>\n",
       "      <td>2215</td>\n",
       "    </tr>\n",
       "    <tr>\n",
       "      <th>3</th>\n",
       "      <td>2021/3/19</td>\n",
       "      <td>2281</td>\n",
       "    </tr>\n",
       "    <tr>\n",
       "      <th>4</th>\n",
       "      <td>2021/3/22</td>\n",
       "      <td>2319</td>\n",
       "    </tr>\n",
       "  </tbody>\n",
       "</table>\n",
       "</div>"
      ],
      "text/plain": [
       "      ReDate  ReValue\n",
       "0  2021/3/16     2017\n",
       "1  2021/3/17     2105\n",
       "2  2021/3/18     2215\n",
       "3  2021/3/19     2281\n",
       "4  2021/3/22     2319"
      ]
     },
     "execution_count": 5,
     "metadata": {},
     "output_type": "execute_result"
    }
   ],
   "source": [
    "bdi.head()"
   ]
  },
  {
   "cell_type": "code",
   "execution_count": 6,
   "id": "f9240064",
   "metadata": {},
   "outputs": [
    {
     "data": {
      "text/html": [
       "<div>\n",
       "<style scoped>\n",
       "    .dataframe tbody tr th:only-of-type {\n",
       "        vertical-align: middle;\n",
       "    }\n",
       "\n",
       "    .dataframe tbody tr th {\n",
       "        vertical-align: top;\n",
       "    }\n",
       "\n",
       "    .dataframe thead th {\n",
       "        text-align: right;\n",
       "    }\n",
       "</style>\n",
       "<table border=\"1\" class=\"dataframe\">\n",
       "  <thead>\n",
       "    <tr style=\"text-align: right;\">\n",
       "      <th></th>\n",
       "      <th>ReDate</th>\n",
       "      <th>ReClose</th>\n",
       "    </tr>\n",
       "  </thead>\n",
       "  <tbody>\n",
       "    <tr>\n",
       "      <th>0</th>\n",
       "      <td>2021/3/16</td>\n",
       "      <td>11.41</td>\n",
       "    </tr>\n",
       "    <tr>\n",
       "      <th>1</th>\n",
       "      <td>2021/3/17</td>\n",
       "      <td>12.55</td>\n",
       "    </tr>\n",
       "    <tr>\n",
       "      <th>2</th>\n",
       "      <td>2021/3/18</td>\n",
       "      <td>12.96</td>\n",
       "    </tr>\n",
       "    <tr>\n",
       "      <th>3</th>\n",
       "      <td>2021/3/19</td>\n",
       "      <td>12.57</td>\n",
       "    </tr>\n",
       "    <tr>\n",
       "      <th>4</th>\n",
       "      <td>2021/3/22</td>\n",
       "      <td>13.01</td>\n",
       "    </tr>\n",
       "  </tbody>\n",
       "</table>\n",
       "</div>"
      ],
      "text/plain": [
       "      ReDate  ReClose\n",
       "0  2021/3/16    11.41\n",
       "1  2021/3/17    12.55\n",
       "2  2021/3/18    12.96\n",
       "3  2021/3/19    12.57\n",
       "4  2021/3/22    13.01"
      ]
     },
     "execution_count": 6,
     "metadata": {},
     "output_type": "execute_result"
    }
   ],
   "source": [
    "cos.head()"
   ]
  },
  {
   "cell_type": "code",
   "execution_count": 7,
   "id": "8035b756",
   "metadata": {},
   "outputs": [],
   "source": [
    "date = bdi['ReDate'].to_numpy()[:-5]\n",
    "y_bdi = bdi['ReValue'].to_numpy()[:-5]\n",
    "y_cos = cos['ReClose'].to_numpy()[:-5]"
   ]
  },
  {
   "cell_type": "code",
   "execution_count": 8,
   "id": "0f32deae",
   "metadata": {},
   "outputs": [
    {
     "data": {
      "image/png": "[encoded data removed]",
      "text/plain": [
       "<Figure size 432x288 with 1 Axes>"
      ]
     },
     "metadata": {
      "needs_background": "light"
     },
     "output_type": "display_data"
    }
   ],
   "source": [
    "plt.plot(date, y_bdi, c='red')\n",
    "plt.title('BDI Index')\n",
    "plt.show()"
   ]
  },
  {
   "cell_type": "code",
   "execution_count": 9,
   "id": "484a17a8",
   "metadata": {},
   "outputs": [
    {
     "data": {
      "image/png": "[encoded data removed]",
      "text/plain": [
       "<Figure size 432x288 with 1 Axes>"
      ]
     },
     "metadata": {
      "needs_background": "light"
     },
     "output_type": "display_data"
    }
   ],
   "source": [
    "plt.plot(date, y_cos, c='blue')\n",
    "plt.title('COSCO Stock Price')\n",
    "plt.show()"
   ]
  },
  {
   "cell_type": "code",
   "execution_count": 10,
   "id": "3705c6b0",
   "metadata": {},
   "outputs": [
    {
     "data": {
      "text/plain": [
       "0.7923452216794457"
      ]
     },
     "execution_count": 10,
     "metadata": {},
     "output_type": "execute_result"
    }
   ],
   "source": [
    "# Correlation\n",
    "np.corrcoef(y_cos, y_bdi)[0, 1]"
   ]
  },
  {
   "cell_type": "code",
   "execution_count": 11,
   "id": "1693777d",
   "metadata": {},
   "outputs": [],
   "source": [
    "# Rescale and X axis\n",
    "r_bdi = (y_bdi - min(y_bdi)) / (max(y_bdi) - min(y_bdi))\n",
    "r_cos = (y_cos - min(y_cos)) / (max(y_cos) - min(y_cos))\n",
    "X = []\n",
    "for i in range(len(date)):\n",
    "    if i == 0:\n",
    "        X.append(date[i])\n",
    "    elif i == 20:\n",
    "        X.append(date[i])\n",
    "    elif i == 40:\n",
    "        X.append(date[i])\n",
    "    elif i == 60:\n",
    "        X.append(date[i])\n",
    "    elif i == 80:\n",
    "        X.append(date[i])\n",
    "    else:\n",
    "        X.append('')"
   ]
  },
  {
   "cell_type": "code",
   "execution_count": 12,
   "id": "e9940b9e",
   "metadata": {},
   "outputs": [
    {
     "name": "stdout",
     "output_type": "stream",
     "text": [
      "0.0732751441006908\n",
      "0.6934665318850162\n"
     ]
    }
   ],
   "source": [
    "# Linear regression model\n",
    "lr = LinearRegression()\n",
    "lr.fit(r_bdi.reshape(-1,1), r_cos)\n",
    "print(lr.intercept_)\n",
    "print(lr.coef_[0])\n",
    "\n",
    "def Price(x):\n",
    "    return lr.intercept_ + lr.coef_[0] * x"
   ]
  },
  {
   "cell_type": "code",
   "execution_count": 14,
   "id": "815481da",
   "metadata": {},
   "outputs": [
    {
     "data": {
      "image/png": "[encoded data removed]",
      "text/plain": [
       "<Figure size 432x288 with 1 Axes>"
      ]
     },
     "metadata": {
      "needs_background": "light"
     },
     "output_type": "display_data"
    }
   ],
   "source": [
    "plt.scatter(date, r_bdi, c='red', alpha=0.5, label='BDI Index')\n",
    "plt.plot(date, r_bdi, c='red', alpha=0.3)\n",
    "plt.scatter(date, r_cos, c='blue', alpha=0.5, label='COSCO Stock Price')\n",
    "plt.plot(date, r_cos, c='blue', alpha=0.3)\n",
    "plt.plot(date, Price(np.linspace(0, 1, 81)), c='orange', alpha=0.8, label='Estimated Stock Price')\n",
    "plt.legend()\n",
    "plt.xticks(date, X)\n",
    "plt.savefig('cosco-bdi.pdf')\n",
    "plt.show()"
   ]
  }
 ],
 "metadata": {
  "kernelspec": {
   "display_name": "Python 3",
   "language": "python",
   "name": "python3"
  },
  "language_info": {
   "codemirror_mode": {
    "name": "ipython",
    "version": 3
   },
   "file_extension": ".py",
   "mimetype": "text/x-python",
   "name": "python",
   "nbconvert_exporter": "python",
   "pygments_lexer": "ipython3",
   "version": "3.7.2"
  }
 },
 "nbformat": 4,
 "nbformat_minor": 5
}
