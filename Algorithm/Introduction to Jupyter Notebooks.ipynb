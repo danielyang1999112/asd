{
    "metadata": {
        "kernelspec": {
            "name": "python3",
            "display_name": "Python 3",
            "language": "python"
        }
    },
    "nbformat": 4,
    "nbformat_minor": 4,
    "cells": [
        {
            "attachments": {},
            "cell_type": "markdown",
            "metadata": {},
            "source": [
                "## Introduction to Jupyter Notebooks"
            ]
        },
        {
            "attachments": {},
            "cell_type": "markdown",
            "metadata": {},
            "source": [
                "This notebook is designed to show you all the cool things you can do inside a Jupyter notebook!"
            ]
        },
        {
            "attachments": {},
            "cell_type": "markdown",
            "metadata": {},
            "source": [
                "***"
            ]
        },
        {
            "attachments": {},
            "cell_type": "markdown",
            "metadata": {},
            "source": [
                "### 1. Basics"
            ]
        },
        {
            "attachments": {},
            "cell_type": "markdown",
            "metadata": {},
            "source": [
                "A notebook is composed of many blocks called __cells__. Everything inside a notebook must be inside a cell. There are two types of cells: __code cells__ and __markdown cells__. \n",
                "\n",
                "Code cells are where you write your Python code and everything else goes inside a markdown cell. You can insert cells and change the type of cells at the top panel. Here is an example of a simple code cell:"
            ]
        },
        {
            "cell_type": "code",
            "execution_count": 1,
            "metadata": {},
            "outputs": [],
            "source": [
                "print('Hello World!')"
            ]
        },
        {
            "attachments": {},
            "cell_type": "markdown",
            "metadata": {},
            "source": [
                "#### 1.1 Running Cells\n",
                "\n",
                "To get an output from your code or to get the formatting from your markdown cell, you will need to __run the cell__. You can run the cell either by clicking the Run button at the top or by pressing __Shift+Enter__ when you have selected the cell.\n",
                "\n",
                "_Note:_ to go back and edit a markdown cell, double-click on the cell and it will show up in raw form - try doing that with all the cells in this notebook so that you can take a look at the behind the scenes.\n",
                "\n",
                "\u003cfont color = blue\u003e__Try it!__\u003c/font\u003e Double click on a markdown cell and a code cell and then run each cell.\n",
                "\u003cbr/\u003e\n",
                "\u003cbr/\u003e"
            ]
        },
        {
            "attachments": {},
            "cell_type": "markdown",
            "metadata": {},
            "source": [
                "***"
            ]
        },
        {
            "attachments": {},
            "cell_type": "markdown",
            "metadata": {},
            "source": [
                "### 2. Markdown"
            ]
        },
        {
            "attachments": {},
            "cell_type": "markdown",
            "metadata": {},
            "source": [
                "Here we will show you basic markdown techniques that will help you describe your code and write your thought process. \n",
                "\n",
                "It is essential that you use the markdown feature to its full potential. When coding inside the terminal, the only way we can express ourselves is through comments. But in markdown, you can include entire essays and more!\n",
                "\n",
                "There are many things you can do with markdown to make your notebook look pretty and we won't be talking about all. If there is anything you need that is not covered here __search online!__ "
            ]
        },
        {
            "attachments": {},
            "cell_type": "markdown",
            "metadata": {},
            "source": [
                "#### 2.1 Headings\n",
                "\n",
                "To create a heading we use the # symbol - the number of times you use the # symbol indicates what kind of heading you want:\n",
                "\n",
                "- \\# - title heading e.g. \\# Assignment 1\n",
                "- \\## - major heading e.g. \\## Question 1\n",
                "- \\### - minor heading e.g. \\### Part a\n",
                "- \\#### - smallest heading e.g. \\#### Conclusions\n",
                "\n",
                "\u003cfont color = blue\u003e__Try it!__\u003c/font\u003e Change the heading of this notebook to _My Notebook_.\n",
                "\u003cbr/\u003e\n",
                "\u003cbr/\u003e"
            ]
        },
        {
            "attachments": {},
            "cell_type": "markdown",
            "metadata": {},
            "source": [
                "#### 2.2 Text\n",
                "\n",
                "There are some shortcuts you can do to make your text bold, italic or change colour. \n",
                "\n",
                "1. To make text bold, use two _ on either side of your text e.g. ``__this is now bold__`` will give you: __this is now bold__\n",
                "\n",
                "2. To make text italicsed use one _ on either side of your text e.g. ``_this is italicised_`` will give you: _this is italicised_\n",
                "\n",
                "3. To change font color you need to use this __tag__ : \\\u003cfont color = red\u003e This is in red\\\u003c/font\u003e gives you: \u003cfont color = red\u003eThis is in red\u003c/font\u003e\n",
                "\n",
                "\u003cfont color = blue\u003e__Try it!__\u003c/font\u003e Write your name in the color _magenta_"
            ]
        },
        {
            "attachments": {},
            "cell_type": "markdown",
            "metadata": {},
            "source": [
                "\u003cfont color = green\u003e__Your name:__\u003c/font\u003e\n",
                ""
            ]
        },
        {
            "attachments": {},
            "cell_type": "markdown",
            "metadata": {},
            "source": [
                "#### 2.3 Lists\n",
                "\n",
                "To create an unordered list (e.g. bullet points) use a __`-`__ symbol followed by a __space__ on new lines:\n",
                "- First item \n",
                "- Second item \n",
                "\n",
                "\n",
                "To create an ordered list use a __number and dot__ on a new line followed by a __space__ - note that you must start at 1. for this to work:\n",
                "1. First point\n",
                "2. Second point\n",
                "\n",
                "You can also create sublists by __indenting__ inside your list and then using either a - or number and dot depending on the type of list:\n",
                "- Unordered list\n",
                "    - Sublist for an unordered list\n",
                "1. Ordered list\n",
                "    1. Sublist for an ordered list\n",
                "\n",
                "\u003cfont color = blue\u003e__Try it!__\u003c/font\u003e create an unordered list of your 3 favourite foods\u003c/font\u003e"
            ]
        },
        {
            "attachments": {},
            "cell_type": "markdown",
            "metadata": {},
            "source": [
                "\u003cfont color = green\u003e__Your favourite foods here:__\u003c/font\u003e\n",
                ""
            ]
        },
        {
            "attachments": {},
            "cell_type": "markdown",
            "metadata": {},
            "source": [
                "#### 2.4 Mathematics\n",
                "\n",
                "If you want to write mathematical equations you must use the dollar sign symbol - __all your maths markdown must be wrapped in between $$__"
            ]
        },
        {
            "attachments": {},
            "cell_type": "markdown",
            "metadata": {},
            "source": [
                "For inline equations use a single $"
            ]
        },
        {
            "attachments": {},
            "cell_type": "markdown",
            "metadata": {},
            "source": [
                "e.g. $e = mc^2$"
            ]
        },
        {
            "attachments": {},
            "cell_type": "markdown",
            "metadata": {},
            "source": [
                "For block question use double $$"
            ]
        },
        {
            "attachments": {},
            "cell_type": "markdown",
            "metadata": {},
            "source": [
                "e.g.\n",
                "$$e = mc^2$$"
            ]
        },
        {
            "attachments": {},
            "cell_type": "markdown",
            "metadata": {},
            "source": [
                "Theres MANY ways to write maths equations but we will just list the very basics and most useful for you:\n",
                "- For subscripts use _ and for supercripts use ^ \n",
                "    - x_2 gives $x_2$ \n",
                "    - x^2 gives $x^2$\n",
                "- For greek letters use \\letter  \n",
                "    - ``\\alpha`` gives $\\alpha$ \n",
                "    - ``\\beta`` gives $\\beta$\n",
                "\n",
                "To help you with writing more complicated maths, have a look at this link: https://oeis.org/wiki/List_of_LaTeX_mathematical_symbols - you want to look at the column called Latex to see how to write the maths in markdown\n",
                "\n",
                "Using this link will help you to code up things like matrices, sums and many more things!"
            ]
        },
        {
            "attachments": {},
            "cell_type": "markdown",
            "metadata": {},
            "source": [
                "\u003cfont color = blue\u003e__Try it!__\u003c/font\u003e try writing this equation in markdown yourself: $y = \\beta_0 + \\beta_1 x$"
            ]
        },
        {
            "attachments": {},
            "cell_type": "markdown",
            "metadata": {},
            "source": [
                "\u003cfont color = green\u003e__Your equation:__\u003cfont\u003e"
            ]
        },
        {
            "attachments": {},
            "cell_type": "markdown",
            "metadata": {},
            "source": [
                "***"
            ]
        },
        {
            "attachments": {},
            "cell_type": "markdown",
            "metadata": {},
            "source": [
                "#### 2.5 Tables\n",
                "\n",
                "Double click on this cell to see how the below table was generated. \n",
                "\n",
                "| Column 1 | Column 2 | Column 3 |\n",
                "| --- | --- | --- |\n",
                "| Value 1 | Value 2 | Value 3 |\n",
                "| Value 4 | Value 5 | Value 6 |\n",
                "\n",
                "You can tweak the above markdown code to fit whichever table you are trying to create - as with other things, there's plenty more you can do with tables and __Googling is your best option__ to find out how to create the exact table you want! \n",
                "\n",
                "\u003cbr/\u003e"
            ]
        },
        {
            "attachments": {},
            "cell_type": "markdown",
            "metadata": {},
            "source": [
                "#### 2.6 Vertical lines and horizontal breaks\n",
                "\n",
                "1. To create a vertical line type only *** inside a markdown cell and press run. This is useful for when you want to separate sections in a neat way\n",
                "\n",
                "2. To create a horizontal break, insert the tag \\\u003cbr/\u003e - these can be compounded for a larger break\n",
                "\n",
                "\u003cfont color = blue\u003e__Try it!__\u003c/font\u003e Create a vertical line followed by a horizontal break below\n",
                "\n",
                ""
            ]
        },
        {
            "attachments": {},
            "cell_type": "markdown",
            "metadata": {},
            "source": [
                "\u003cfont color = green\u003e__Your line:__\u003c/font\u003e\n",
                ""
            ]
        },
        {
            "attachments": {},
            "cell_type": "markdown",
            "metadata": {},
            "source": [
                "#### 2.7 Emojis and Geometric Shapes\n",
                "\n",
                "Something super fun is that you can insert emojis and geometric shapes! To do this you will need to know the the __reference number__ of the emoji or shape to insert it. \n",
                "\n",
                "A list of reference numbers is given here: https://www.w3schools.com/charsets/ref_utf_geometric.asp \n",
                "\n",
                "To use it you need to type ``\u0026#\u003cnumber\u003e;`` i.e. ``\u0026#127822;`` gives me \u0026#127822;"
            ]
        },
        {
            "attachments": {},
            "cell_type": "markdown",
            "metadata": {},
            "source": [
                "***"
            ]
        },
        {
            "attachments": {},
            "cell_type": "markdown",
            "metadata": {},
            "source": [
                "### 3. Code"
            ]
        },
        {
            "attachments": {},
            "cell_type": "markdown",
            "metadata": {},
            "source": [
                "You can write normal Python code as you normally would inside a code block - the notebook is already setup to have a Python kernel so Jupyter knows you are writing Python code"
            ]
        },
        {
            "cell_type": "code",
            "execution_count": 1,
            "metadata": {},
            "outputs": [],
            "source": [
                "x = 2\n",
                "y = 10\n",
                "\n",
                "print(x + y)"
            ]
        },
        {
            "attachments": {},
            "cell_type": "markdown",
            "metadata": {},
            "source": [
                "\u003cfont color = blue\u003e__Try it!__\u003c/font\u003e Run the code above and see what happens!"
            ]
        },
        {
            "attachments": {},
            "cell_type": "markdown",
            "metadata": {},
            "source": [
                "You can see that the output appears below the code cell. Note that this output will remain (even if you close your notebook). \n",
                "\n",
                "To clear ouputs, selecting __Commands -\u003e Clear all cell outputs__.\n",
                "\n",
                "If you are using Jupyter Notebook locally, you can remove all the outputs by selecting __Cell -\u003e All Output -\u003e Clear__."
            ]
        },
        {
            "attachments": {},
            "cell_type": "markdown",
            "metadata": {},
            "source": [
                "#### 3.1 Importing libraries\n",
                "\n",
                "You can import libraries as you normally would in Python. \n",
                "\n",
                "Once you import a library, __you don't have to do it again__ - it lasts for the entire notebook! So it is a good idea to import all the libraries you need at the very top of your notebook. "
            ]
        },
        {
            "cell_type": "code",
            "execution_count": 3,
            "metadata": {},
            "outputs": [],
            "source": [
                "import numpy as np\n",
                "import pandas as pd \n",
                "import matplotlib.pyplot as plt "
            ]
        },
        {
            "attachments": {},
            "cell_type": "markdown",
            "metadata": {},
            "source": [
                "3.2 Using external files\n",
                "\n",
                "Throughout the course, we have used multiple _csv_ files, but the question is, how do we use these inside our notebooks? \n",
                "\n",
                "The code remains exactly the same; the only thing to remember is that __your file must be in the same directory as your notebook__ - otherwise you will get an error saying Python is unable to find your file. \n",
                "\n",
                "If your file is in a __different directory__, that is still OK, but make sure that you include the __proper file path__ when reading in the _csv_ file otherwise you will get the same error. "
            ]
        },
        {
            "cell_type": "code",
            "execution_count": 4,
            "metadata": {},
            "outputs": [],
            "source": [
                "marketing = pd.read_csv(\"DirectMarketing.csv\")\n",
                "\n",
                "marketing.head()"
            ]
        },
        {
            "attachments": {},
            "cell_type": "markdown",
            "metadata": {},
            "source": [
                "\u003cfont color = blue\u003e__Try it!__\u003c/font\u003e Run the code above and see what **happens**!"
            ]
        }
    ]
}
